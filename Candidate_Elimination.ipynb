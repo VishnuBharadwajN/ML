{
  "nbformat": 4,
  "nbformat_minor": 0,
  "metadata": {
    "colab": {
      "name": "Candidate_Elimination.ipynb",
      "provenance": [],
      "collapsed_sections": []
    },
    "kernelspec": {
      "name": "python3",
      "display_name": "Python 3"
    },
    "language_info": {
      "name": "python"
    }
  },
  "cells": [
    {
      "cell_type": "markdown",
      "source": [
        "**19BCE7478 - Nittoor Vishnu Bharadwaj**\n",
        "\n",
        "---\n",
        "\n"
      ],
      "metadata": {
        "id": "b1OIkcoIALeo"
      }
    },
    {
      "cell_type": "code",
      "execution_count": 14,
      "metadata": {
        "colab": {
          "base_uri": "https://localhost:8080/",
          "height": 0
        },
        "id": "pNN6gK_J6fUR",
        "outputId": "097ce9c2-ccb0-46f5-cc3c-fda84ac0c59a"
      },
      "outputs": [
        {
          "output_type": "stream",
          "name": "stdout",
          "text": [
            "     Sky air_temp Humidity   Wind  Water Forecast Enjoy sport\n",
            "0  Sunny     Warm   Normal  Strong  Warm     Same           Y\n",
            "1  Sunny     Warm     High  Strong  Warm     Same           Y\n",
            "2  Rainy     Cold     High  Strong  Warm   Change           N\n",
            "3  Sunny     Warm     High  Strong  Cold   Change           Y\n"
          ]
        }
      ],
      "source": [
        "import numpy as np\n",
        "import pandas as pd\n",
        "data = pd.DataFrame(data=pd.read_csv('/content/sports.csv'))\n",
        "print(data)"
      ]
    },
    {
      "cell_type": "code",
      "source": [
        "c = np.array(data.iloc[:,0:-1])\n",
        "t = np.array(data.iloc[:,-1])\n",
        "#printing target row\n",
        "print(t)\n",
        "#printing concepts row\n",
        "print(c)"
      ],
      "metadata": {
        "colab": {
          "base_uri": "https://localhost:8080/",
          "height": 0
        },
        "id": "aLpYhIC38e_N",
        "outputId": "55090a04-8e00-4568-94cd-923e0977f1b9"
      },
      "execution_count": 15,
      "outputs": [
        {
          "output_type": "stream",
          "name": "stdout",
          "text": [
            "['Y' 'Y' 'N' 'Y']\n",
            "[['Sunny' 'Warm' 'Normal' 'Strong' 'Warm' 'Same']\n",
            " ['Sunny' 'Warm' 'High' 'Strong' 'Warm' 'Same']\n",
            " ['Rainy' 'Cold' 'High' 'Strong' 'Warm' 'Change']\n",
            " ['Sunny' 'Warm' 'High' 'Strong' 'Cold' 'Change']]\n"
          ]
        }
      ]
    },
    {
      "cell_type": "code",
      "source": [
        "def learn(c, t):\n",
        "  specific_h = c[0].copy()\n",
        "  print(\"Initialization of specific_h and general_h\")\n",
        "  print(\"specific_h: \",specific_h)\n",
        "  general_h = [[\"?\" for i in range(len(specific_h))] for i in range(len(specific_h))]\n",
        "  print(\"general_h: \",general_h)\n",
        "  print(\"concepts:\\n\",c)\n",
        "  for i, h in enumerate(c):\n",
        "    if t[i] == \"Y\":\n",
        "      for x in range(len(specific_h)):\n",
        "        print(\"h[x]\",h[x])\n",
        "        if h[x] != specific_h[x]:\n",
        "          specific_h[x] = '?'\n",
        "          general_h[x][x] = '?'\n",
        "    if t[i] == \"N\":\n",
        "      for x in range(len(specific_h)):\n",
        "        if h[x] != specific_h[x]:\n",
        "          general_h[x][x] = specific_h[x]\n",
        "        else:\n",
        "          general_h[x][x] = '?'\n",
        "  print(\"\\nSteps of Candidate Elimination Algorithm: \",i+1)\n",
        "  print(\"Specific_h: \",i+1)\n",
        "  print(specific_h,\"\\n\")\n",
        "  print(\"general_h :\", i+1)\n",
        "  print(general_h)\n",
        "  indices = [i for i, val in enumerate(general_h) if val == ['?', '?', '?', '?', '?', '?']]\n",
        "  print(\"\\nIndices\",indices)\n",
        "  for i in indices:\n",
        "    general_h.remove(['?', '?', '?', '?', '?', '?'])\n",
        "  return specific_h, general_h\n",
        "s_final,g_final = learn(c, t)\n",
        "print(\"\\nFinal Specific_h:\", s_final, sep=\"\\n\")\n",
        "print(\"Final General_h:\", g_final, sep=\"\\n\")"
      ],
      "metadata": {
        "colab": {
          "base_uri": "https://localhost:8080/",
          "height": 0
        },
        "id": "Fwrsn5v88gkg",
        "outputId": "ab9e8dc6-3c2d-4d96-dd2b-949542112a9e"
      },
      "execution_count": 17,
      "outputs": [
        {
          "output_type": "stream",
          "name": "stdout",
          "text": [
            "Initialization of specific_h and general_h\n",
            "specific_h:  ['Sunny' 'Warm' 'Normal' 'Strong' 'Warm' 'Same']\n",
            "general_h:  [['?', '?', '?', '?', '?', '?'], ['?', '?', '?', '?', '?', '?'], ['?', '?', '?', '?', '?', '?'], ['?', '?', '?', '?', '?', '?'], ['?', '?', '?', '?', '?', '?'], ['?', '?', '?', '?', '?', '?']]\n",
            "concepts:\n",
            " [['Sunny' 'Warm' 'Normal' 'Strong' 'Warm' 'Same']\n",
            " ['Sunny' 'Warm' 'High' 'Strong' 'Warm' 'Same']\n",
            " ['Rainy' 'Cold' 'High' 'Strong' 'Warm' 'Change']\n",
            " ['Sunny' 'Warm' 'High' 'Strong' 'Cold' 'Change']]\n",
            "h[x] Sunny\n",
            "h[x] Warm\n",
            "h[x] Normal\n",
            "h[x] Strong\n",
            "h[x] Warm\n",
            "h[x] Same\n",
            "h[x] Sunny\n",
            "h[x] Warm\n",
            "h[x] High\n",
            "h[x] Strong\n",
            "h[x] Warm\n",
            "h[x] Same\n",
            "h[x] Sunny\n",
            "h[x] Warm\n",
            "h[x] High\n",
            "h[x] Strong\n",
            "h[x] Cold\n",
            "h[x] Change\n",
            "\n",
            "Steps of Candidate Elimination Algorithm:  4\n",
            "Specific_h:  4\n",
            "['Sunny' 'Warm' '?' 'Strong' '?' '?'] \n",
            "\n",
            "general_h : 4\n",
            "[['Sunny', '?', '?', '?', '?', '?'], ['?', 'Warm', '?', '?', '?', '?'], ['?', '?', '?', '?', '?', '?'], ['?', '?', '?', '?', '?', '?'], ['?', '?', '?', '?', '?', '?'], ['?', '?', '?', '?', '?', '?']]\n",
            "\n",
            "Indices [2, 3, 4, 5]\n",
            "\n",
            "Final Specific_h:\n",
            "['Sunny' 'Warm' '?' 'Strong' '?' '?']\n",
            "Final General_h:\n",
            "[['Sunny', '?', '?', '?', '?', '?'], ['?', 'Warm', '?', '?', '?', '?']]\n"
          ]
        }
      ]
    }
  ]
}