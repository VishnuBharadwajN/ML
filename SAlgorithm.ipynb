{
  "nbformat": 4,
  "nbformat_minor": 0,
  "metadata": {
    "colab": {
      "name": "SAlgorithm.ipynb",
      "provenance": [],
      "collapsed_sections": [],
      "toc_visible": true
    },
    "kernelspec": {
      "name": "python3",
      "display_name": "Python 3"
    },
    "language_info": {
      "name": "python"
    }
  },
  "cells": [
    {
      "cell_type": "markdown",
      "source": [
        "**19BCE7478 - Nittoor Vishnu Bharadwaj**\n",
        "\n",
        "---\n",
        "\n"
      ],
      "metadata": {
        "id": "j7shuCl0nAoV"
      }
    },
    {
      "cell_type": "code",
      "execution_count": 1,
      "metadata": {
        "id": "h9UBftPGm28X"
      },
      "outputs": [],
      "source": [
        "import numpy as np\n"
      ]
    },
    {
      "cell_type": "code",
      "source": [
        "import pandas as pd"
      ],
      "metadata": {
        "id": "oHhxSttMns-8"
      },
      "execution_count": 2,
      "outputs": []
    },
    {
      "cell_type": "code",
      "source": [
        "data = pd.read_csv('/content/sample.csv',)"
      ],
      "metadata": {
        "id": "4XKS9Vu7oCJF"
      },
      "execution_count": 3,
      "outputs": []
    },
    {
      "cell_type": "code",
      "source": [
        "data.info()\n"
      ],
      "metadata": {
        "colab": {
          "base_uri": "https://localhost:8080/",
          "height": 0
        },
        "id": "LHkvBPwPsyno",
        "outputId": "09df98ed-3694-4ebc-c89f-dbb8b573b822"
      },
      "execution_count": 4,
      "outputs": [
        {
          "output_type": "stream",
          "name": "stdout",
          "text": [
            "<class 'pandas.core.frame.DataFrame'>\n",
            "RangeIndex: 4 entries, 0 to 3\n",
            "Data columns (total 6 columns):\n",
            " #   Column     Non-Null Count  Dtype \n",
            "---  ------     --------------  ----- \n",
            " 0   Citations  4 non-null      object\n",
            " 1   Size       4 non-null      object\n",
            " 2   InLibrary  4 non-null      object\n",
            " 3   Price      4 non-null      object\n",
            " 4   Editions   4 non-null      object\n",
            " 5   Buy        4 non-null      object\n",
            "dtypes: object(6)\n",
            "memory usage: 320.0+ bytes\n"
          ]
        }
      ]
    },
    {
      "cell_type": "code",
      "source": [
        "import random\n",
        "import csv\n",
        "num_attributes = 5\n",
        "a = []\n",
        "print(\"\\n The Given Training Data Set \\n\")\n",
        "with open('/content/sample.csv', 'r') as csvfile:\n",
        " reader = csv.reader(csvfile)\n",
        " for row in reader:\n",
        "   a.append(row)\n",
        "   print(row)\n",
        "print(\"\\n The initial value of hypothesis: \")\n",
        "hypothesis = ['0'] * num_attributes\n",
        "print(hypothesis)\n",
        "for j in range(1,num_attributes):\n",
        "  hypothesis[j] = a[0][j]\n",
        "print(\"\\n Find S: Finding a Maximally Specific Hypothesis\\n\")\n",
        "for i in range(1,len(a)):\n",
        " if a[i][num_attributes]=='Yes':\n",
        "   for j in range(1,num_attributes):\n",
        "     if a[i][j]!=hypothesis[j]:\n",
        "       hypothesis[j]='?'\n",
        "     else:\n",
        "       hypothesis[j]= a[i][j]\n",
        " print(\" For Training Example No :{0} the hypothesis is \".format(i),hypothesis)\n",
        "print(\"\\n The Maximally Specific Hypothesis for a given Training Examples :\\n\")\n",
        "print(hypothesis)\n"
      ],
      "metadata": {
        "id": "qJu4AGgNvPmn",
        "colab": {
          "base_uri": "https://localhost:8080/",
          "height": 0
        },
        "outputId": "a13297d8-8adf-44aa-99b2-eb31def8fa7e"
      },
      "execution_count": 7,
      "outputs": [
        {
          "output_type": "stream",
          "name": "stdout",
          "text": [
            "\n",
            " The Given Training Data Set \n",
            "\n",
            "['\\ufeffCitations', 'Size', 'InLibrary', 'Price', 'Editions', 'Buy']\n",
            "['Some', 'Small', 'No', 'Affordable', 'One ', 'No']\n",
            "['Many', 'Big', 'No', 'Expensive', 'Many', 'Yes']\n",
            "['Many', 'Medium', 'No', 'Expensive', 'Few', 'Yes']\n",
            "['Many', 'Small', 'No', 'Affordable', 'Many', 'Yes']\n",
            "\n",
            " The initial value of hypothesis: \n",
            "['0', '0', '0', '0', '0']\n",
            "\n",
            " Find S: Finding a Maximally Specific Hypothesis\n",
            "\n",
            " For Training Example No :1 the hypothesis is  ['0', 'Size', 'InLibrary', 'Price', 'Editions']\n",
            " For Training Example No :2 the hypothesis is  ['0', '?', '?', '?', '?']\n",
            " For Training Example No :3 the hypothesis is  ['0', '?', '?', '?', '?']\n",
            " For Training Example No :4 the hypothesis is  ['0', '?', '?', '?', '?']\n",
            "\n",
            " The Maximally Specific Hypothesis for a given Training Examples :\n",
            "\n",
            "['0', '?', '?', '?', '?']\n"
          ]
        }
      ]
    }
  ]
}