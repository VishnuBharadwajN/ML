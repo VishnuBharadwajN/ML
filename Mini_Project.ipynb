{
  "nbformat": 4,
  "nbformat_minor": 0,
  "metadata": {
    "colab": {
      "name": "Mini Project.ipynb",
      "provenance": [],
      "collapsed_sections": []
    },
    "kernelspec": {
      "name": "python3",
      "display_name": "Python 3"
    },
    "language_info": {
      "name": "python"
    }
  },
  "cells": [
    {
      "cell_type": "markdown",
      "source": [
        "**Batch 5 - Wheat seeds dataset**"
      ],
      "metadata": {
        "id": "c221VVMKL117"
      }
    },
    {
      "cell_type": "code",
      "execution_count": 5,
      "metadata": {
        "id": "9mp5_pp3BxMo"
      },
      "outputs": [],
      "source": [
        "import pandas as pd\n",
        "import numpy as np\n",
        "import tensorflow as tf\n",
        "from sklearn.model_selection import train_test_split\n",
        "from sklearn.naive_bayes import GaussianNB\n",
        "from sklearn.neighbors import KNeighborsClassifier\n",
        "from sklearn.linear_model import LogisticRegression\n",
        "from sklearn.svm import SVC\n",
        "from sklearn import metrics\n",
        "import matplotlib.pyplot as plt\n",
        "import seaborn as sns\n",
        "from sklearn.metrics import confusion_matrix\n",
        "from sklearn.ensemble import RandomForestClassifier\n",
        "from keras.models import Sequential\n",
        "from keras.layers import Dense"
      ]
    },
    {
      "cell_type": "markdown",
      "source": [
        "####Dataset\n"
      ],
      "metadata": {
        "id": "u2OVwMcpCOfy"
      }
    },
    {
      "cell_type": "code",
      "source": [
        "from google.colab import drive\n",
        "drive.mount('/content/gdrive')\n",
        "\n",
        "data = pd.read_csv('/content/seeds_dataset.csv')"
      ],
      "metadata": {
        "colab": {
          "base_uri": "https://localhost:8080/"
        },
        "id": "AGmAiMG9CCnz",
        "outputId": "2715b5e2-4bbf-4cc5-a69a-dfc1b78fad6e"
      },
      "execution_count": 6,
      "outputs": [
        {
          "output_type": "stream",
          "name": "stdout",
          "text": [
            "Drive already mounted at /content/gdrive; to attempt to forcibly remount, call drive.mount(\"/content/gdrive\", force_remount=True).\n"
          ]
        }
      ]
    },
    {
      "cell_type": "code",
      "source": [
        "print(data)"
      ],
      "metadata": {
        "colab": {
          "base_uri": "https://localhost:8080/"
        },
        "id": "CrYVlV2ZCgFR",
        "outputId": "0461bcc2-d3cc-4bad-c44b-22c646851970"
      },
      "execution_count": 7,
      "outputs": [
        {
          "output_type": "stream",
          "name": "stdout",
          "text": [
            "     15.26  14.84   0.871  5.763  3.312  2.221   5.22  1\n",
            "0    14.88  14.57  0.8811  5.554  3.333  1.018  4.956  1\n",
            "1    14.29  14.09  0.9050  5.291  3.337  2.699  4.825  1\n",
            "2    13.84  13.94  0.8955  5.324  3.379  2.259  4.805  1\n",
            "3    16.14  14.99  0.9034  5.658  3.562  1.355  5.175  1\n",
            "4    14.38  14.21  0.8951  5.386  3.312  2.462  4.956  1\n",
            "..     ...    ...     ...    ...    ...    ...    ... ..\n",
            "178  12.21  13.47  0.8453  5.357  2.893  1.661  5.178  3\n",
            "179  11.41  12.95  0.8560  5.090  2.775  4.957  4.825  3\n",
            "180  12.46  13.41  0.8706  5.236  3.017  4.987  5.147  3\n",
            "181  12.19  13.36  0.8579  5.240  2.909  4.857  5.158  3\n",
            "182  11.65  13.07  0.8575  5.108  2.850  5.209  5.135  3\n",
            "\n",
            "[183 rows x 8 columns]\n"
          ]
        }
      ]
    },
    {
      "cell_type": "code",
      "source": [
        "data.describe()"
      ],
      "metadata": {
        "colab": {
          "base_uri": "https://localhost:8080/",
          "height": 300
        },
        "id": "llsc5LF9ChNJ",
        "outputId": "9d0f1966-ea60-4dee-a970-7b09ed37a768"
      },
      "execution_count": 8,
      "outputs": [
        {
          "output_type": "execute_result",
          "data": {
            "text/plain": [
              "            15.26       14.84       0.871       5.763      3.312       2.221  \\\n",
              "count  183.000000  183.000000  183.000000  183.000000  183.00000  183.000000   \n",
              "mean    15.247705   14.747486    0.872221    5.691148    3.30618    3.552837   \n",
              "std      2.885473    1.284392    0.023685    0.436285    0.37600    1.440893   \n",
              "min     10.740000   12.570000    0.808100    4.902000    2.64100    0.765100   \n",
              "25%     12.710000   13.595000    0.858600    5.349000    2.98450    2.397500   \n",
              "50%     14.880000   14.570000    0.875000    5.618000    3.32800    3.373000   \n",
              "75%     18.065000   15.940000    0.888650    6.044000    3.59400    4.609000   \n",
              "max     21.180000   17.250000    0.918300    6.675000    4.03300    7.035000   \n",
              "\n",
              "             5.22           1  \n",
              "count  183.000000  183.000000  \n",
              "mean     5.464262    1.863388  \n",
              "std      0.499501    0.775960  \n",
              "min      4.519000    1.000000  \n",
              "25%      5.088000    1.000000  \n",
              "50%      5.307000    2.000000  \n",
              "75%      5.912000    2.000000  \n",
              "max      6.550000    3.000000  "
            ],
            "text/html": [
              "\n",
              "  <div id=\"df-853888d7-8b9a-4b13-8490-ee1303a126bf\">\n",
              "    <div class=\"colab-df-container\">\n",
              "      <div>\n",
              "<style scoped>\n",
              "    .dataframe tbody tr th:only-of-type {\n",
              "        vertical-align: middle;\n",
              "    }\n",
              "\n",
              "    .dataframe tbody tr th {\n",
              "        vertical-align: top;\n",
              "    }\n",
              "\n",
              "    .dataframe thead th {\n",
              "        text-align: right;\n",
              "    }\n",
              "</style>\n",
              "<table border=\"1\" class=\"dataframe\">\n",
              "  <thead>\n",
              "    <tr style=\"text-align: right;\">\n",
              "      <th></th>\n",
              "      <th>15.26</th>\n",
              "      <th>14.84</th>\n",
              "      <th>0.871</th>\n",
              "      <th>5.763</th>\n",
              "      <th>3.312</th>\n",
              "      <th>2.221</th>\n",
              "      <th>5.22</th>\n",
              "      <th>1</th>\n",
              "    </tr>\n",
              "  </thead>\n",
              "  <tbody>\n",
              "    <tr>\n",
              "      <th>count</th>\n",
              "      <td>183.000000</td>\n",
              "      <td>183.000000</td>\n",
              "      <td>183.000000</td>\n",
              "      <td>183.000000</td>\n",
              "      <td>183.00000</td>\n",
              "      <td>183.000000</td>\n",
              "      <td>183.000000</td>\n",
              "      <td>183.000000</td>\n",
              "    </tr>\n",
              "    <tr>\n",
              "      <th>mean</th>\n",
              "      <td>15.247705</td>\n",
              "      <td>14.747486</td>\n",
              "      <td>0.872221</td>\n",
              "      <td>5.691148</td>\n",
              "      <td>3.30618</td>\n",
              "      <td>3.552837</td>\n",
              "      <td>5.464262</td>\n",
              "      <td>1.863388</td>\n",
              "    </tr>\n",
              "    <tr>\n",
              "      <th>std</th>\n",
              "      <td>2.885473</td>\n",
              "      <td>1.284392</td>\n",
              "      <td>0.023685</td>\n",
              "      <td>0.436285</td>\n",
              "      <td>0.37600</td>\n",
              "      <td>1.440893</td>\n",
              "      <td>0.499501</td>\n",
              "      <td>0.775960</td>\n",
              "    </tr>\n",
              "    <tr>\n",
              "      <th>min</th>\n",
              "      <td>10.740000</td>\n",
              "      <td>12.570000</td>\n",
              "      <td>0.808100</td>\n",
              "      <td>4.902000</td>\n",
              "      <td>2.64100</td>\n",
              "      <td>0.765100</td>\n",
              "      <td>4.519000</td>\n",
              "      <td>1.000000</td>\n",
              "    </tr>\n",
              "    <tr>\n",
              "      <th>25%</th>\n",
              "      <td>12.710000</td>\n",
              "      <td>13.595000</td>\n",
              "      <td>0.858600</td>\n",
              "      <td>5.349000</td>\n",
              "      <td>2.98450</td>\n",
              "      <td>2.397500</td>\n",
              "      <td>5.088000</td>\n",
              "      <td>1.000000</td>\n",
              "    </tr>\n",
              "    <tr>\n",
              "      <th>50%</th>\n",
              "      <td>14.880000</td>\n",
              "      <td>14.570000</td>\n",
              "      <td>0.875000</td>\n",
              "      <td>5.618000</td>\n",
              "      <td>3.32800</td>\n",
              "      <td>3.373000</td>\n",
              "      <td>5.307000</td>\n",
              "      <td>2.000000</td>\n",
              "    </tr>\n",
              "    <tr>\n",
              "      <th>75%</th>\n",
              "      <td>18.065000</td>\n",
              "      <td>15.940000</td>\n",
              "      <td>0.888650</td>\n",
              "      <td>6.044000</td>\n",
              "      <td>3.59400</td>\n",
              "      <td>4.609000</td>\n",
              "      <td>5.912000</td>\n",
              "      <td>2.000000</td>\n",
              "    </tr>\n",
              "    <tr>\n",
              "      <th>max</th>\n",
              "      <td>21.180000</td>\n",
              "      <td>17.250000</td>\n",
              "      <td>0.918300</td>\n",
              "      <td>6.675000</td>\n",
              "      <td>4.03300</td>\n",
              "      <td>7.035000</td>\n",
              "      <td>6.550000</td>\n",
              "      <td>3.000000</td>\n",
              "    </tr>\n",
              "  </tbody>\n",
              "</table>\n",
              "</div>\n",
              "      <button class=\"colab-df-convert\" onclick=\"convertToInteractive('df-853888d7-8b9a-4b13-8490-ee1303a126bf')\"\n",
              "              title=\"Convert this dataframe to an interactive table.\"\n",
              "              style=\"display:none;\">\n",
              "        \n",
              "  <svg xmlns=\"http://www.w3.org/2000/svg\" height=\"24px\"viewBox=\"0 0 24 24\"\n",
              "       width=\"24px\">\n",
              "    <path d=\"M0 0h24v24H0V0z\" fill=\"none\"/>\n",
              "    <path d=\"M18.56 5.44l.94 2.06.94-2.06 2.06-.94-2.06-.94-.94-2.06-.94 2.06-2.06.94zm-11 1L8.5 8.5l.94-2.06 2.06-.94-2.06-.94L8.5 2.5l-.94 2.06-2.06.94zm10 10l.94 2.06.94-2.06 2.06-.94-2.06-.94-.94-2.06-.94 2.06-2.06.94z\"/><path d=\"M17.41 7.96l-1.37-1.37c-.4-.4-.92-.59-1.43-.59-.52 0-1.04.2-1.43.59L10.3 9.45l-7.72 7.72c-.78.78-.78 2.05 0 2.83L4 21.41c.39.39.9.59 1.41.59.51 0 1.02-.2 1.41-.59l7.78-7.78 2.81-2.81c.8-.78.8-2.07 0-2.86zM5.41 20L4 18.59l7.72-7.72 1.47 1.35L5.41 20z\"/>\n",
              "  </svg>\n",
              "      </button>\n",
              "      \n",
              "  <style>\n",
              "    .colab-df-container {\n",
              "      display:flex;\n",
              "      flex-wrap:wrap;\n",
              "      gap: 12px;\n",
              "    }\n",
              "\n",
              "    .colab-df-convert {\n",
              "      background-color: #E8F0FE;\n",
              "      border: none;\n",
              "      border-radius: 50%;\n",
              "      cursor: pointer;\n",
              "      display: none;\n",
              "      fill: #1967D2;\n",
              "      height: 32px;\n",
              "      padding: 0 0 0 0;\n",
              "      width: 32px;\n",
              "    }\n",
              "\n",
              "    .colab-df-convert:hover {\n",
              "      background-color: #E2EBFA;\n",
              "      box-shadow: 0px 1px 2px rgba(60, 64, 67, 0.3), 0px 1px 3px 1px rgba(60, 64, 67, 0.15);\n",
              "      fill: #174EA6;\n",
              "    }\n",
              "\n",
              "    [theme=dark] .colab-df-convert {\n",
              "      background-color: #3B4455;\n",
              "      fill: #D2E3FC;\n",
              "    }\n",
              "\n",
              "    [theme=dark] .colab-df-convert:hover {\n",
              "      background-color: #434B5C;\n",
              "      box-shadow: 0px 1px 3px 1px rgba(0, 0, 0, 0.15);\n",
              "      filter: drop-shadow(0px 1px 2px rgba(0, 0, 0, 0.3));\n",
              "      fill: #FFFFFF;\n",
              "    }\n",
              "  </style>\n",
              "\n",
              "      <script>\n",
              "        const buttonEl =\n",
              "          document.querySelector('#df-853888d7-8b9a-4b13-8490-ee1303a126bf button.colab-df-convert');\n",
              "        buttonEl.style.display =\n",
              "          google.colab.kernel.accessAllowed ? 'block' : 'none';\n",
              "\n",
              "        async function convertToInteractive(key) {\n",
              "          const element = document.querySelector('#df-853888d7-8b9a-4b13-8490-ee1303a126bf');\n",
              "          const dataTable =\n",
              "            await google.colab.kernel.invokeFunction('convertToInteractive',\n",
              "                                                     [key], {});\n",
              "          if (!dataTable) return;\n",
              "\n",
              "          const docLinkHtml = 'Like what you see? Visit the ' +\n",
              "            '<a target=\"_blank\" href=https://colab.research.google.com/notebooks/data_table.ipynb>data table notebook</a>'\n",
              "            + ' to learn more about interactive tables.';\n",
              "          element.innerHTML = '';\n",
              "          dataTable['output_type'] = 'display_data';\n",
              "          await google.colab.output.renderOutput(dataTable, element);\n",
              "          const docLink = document.createElement('div');\n",
              "          docLink.innerHTML = docLinkHtml;\n",
              "          element.appendChild(docLink);\n",
              "        }\n",
              "      </script>\n",
              "    </div>\n",
              "  </div>\n",
              "  "
            ]
          },
          "metadata": {},
          "execution_count": 8
        }
      ]
    },
    {
      "cell_type": "code",
      "source": [
        "data.head()"
      ],
      "metadata": {
        "colab": {
          "base_uri": "https://localhost:8080/",
          "height": 206
        },
        "id": "lwq5ivDICjBu",
        "outputId": "c3299965-5c56-4c96-fd55-c3c13114d9eb"
      },
      "execution_count": 9,
      "outputs": [
        {
          "output_type": "execute_result",
          "data": {
            "text/plain": [
              "   15.26  14.84   0.871  5.763  3.312  2.221   5.22  1\n",
              "0  14.88  14.57  0.8811  5.554  3.333  1.018  4.956  1\n",
              "1  14.29  14.09  0.9050  5.291  3.337  2.699  4.825  1\n",
              "2  13.84  13.94  0.8955  5.324  3.379  2.259  4.805  1\n",
              "3  16.14  14.99  0.9034  5.658  3.562  1.355  5.175  1\n",
              "4  14.38  14.21  0.8951  5.386  3.312  2.462  4.956  1"
            ],
            "text/html": [
              "\n",
              "  <div id=\"df-a130844e-d3a4-4bee-9bfe-089cdc505c5b\">\n",
              "    <div class=\"colab-df-container\">\n",
              "      <div>\n",
              "<style scoped>\n",
              "    .dataframe tbody tr th:only-of-type {\n",
              "        vertical-align: middle;\n",
              "    }\n",
              "\n",
              "    .dataframe tbody tr th {\n",
              "        vertical-align: top;\n",
              "    }\n",
              "\n",
              "    .dataframe thead th {\n",
              "        text-align: right;\n",
              "    }\n",
              "</style>\n",
              "<table border=\"1\" class=\"dataframe\">\n",
              "  <thead>\n",
              "    <tr style=\"text-align: right;\">\n",
              "      <th></th>\n",
              "      <th>15.26</th>\n",
              "      <th>14.84</th>\n",
              "      <th>0.871</th>\n",
              "      <th>5.763</th>\n",
              "      <th>3.312</th>\n",
              "      <th>2.221</th>\n",
              "      <th>5.22</th>\n",
              "      <th>1</th>\n",
              "    </tr>\n",
              "  </thead>\n",
              "  <tbody>\n",
              "    <tr>\n",
              "      <th>0</th>\n",
              "      <td>14.88</td>\n",
              "      <td>14.57</td>\n",
              "      <td>0.8811</td>\n",
              "      <td>5.554</td>\n",
              "      <td>3.333</td>\n",
              "      <td>1.018</td>\n",
              "      <td>4.956</td>\n",
              "      <td>1</td>\n",
              "    </tr>\n",
              "    <tr>\n",
              "      <th>1</th>\n",
              "      <td>14.29</td>\n",
              "      <td>14.09</td>\n",
              "      <td>0.9050</td>\n",
              "      <td>5.291</td>\n",
              "      <td>3.337</td>\n",
              "      <td>2.699</td>\n",
              "      <td>4.825</td>\n",
              "      <td>1</td>\n",
              "    </tr>\n",
              "    <tr>\n",
              "      <th>2</th>\n",
              "      <td>13.84</td>\n",
              "      <td>13.94</td>\n",
              "      <td>0.8955</td>\n",
              "      <td>5.324</td>\n",
              "      <td>3.379</td>\n",
              "      <td>2.259</td>\n",
              "      <td>4.805</td>\n",
              "      <td>1</td>\n",
              "    </tr>\n",
              "    <tr>\n",
              "      <th>3</th>\n",
              "      <td>16.14</td>\n",
              "      <td>14.99</td>\n",
              "      <td>0.9034</td>\n",
              "      <td>5.658</td>\n",
              "      <td>3.562</td>\n",
              "      <td>1.355</td>\n",
              "      <td>5.175</td>\n",
              "      <td>1</td>\n",
              "    </tr>\n",
              "    <tr>\n",
              "      <th>4</th>\n",
              "      <td>14.38</td>\n",
              "      <td>14.21</td>\n",
              "      <td>0.8951</td>\n",
              "      <td>5.386</td>\n",
              "      <td>3.312</td>\n",
              "      <td>2.462</td>\n",
              "      <td>4.956</td>\n",
              "      <td>1</td>\n",
              "    </tr>\n",
              "  </tbody>\n",
              "</table>\n",
              "</div>\n",
              "      <button class=\"colab-df-convert\" onclick=\"convertToInteractive('df-a130844e-d3a4-4bee-9bfe-089cdc505c5b')\"\n",
              "              title=\"Convert this dataframe to an interactive table.\"\n",
              "              style=\"display:none;\">\n",
              "        \n",
              "  <svg xmlns=\"http://www.w3.org/2000/svg\" height=\"24px\"viewBox=\"0 0 24 24\"\n",
              "       width=\"24px\">\n",
              "    <path d=\"M0 0h24v24H0V0z\" fill=\"none\"/>\n",
              "    <path d=\"M18.56 5.44l.94 2.06.94-2.06 2.06-.94-2.06-.94-.94-2.06-.94 2.06-2.06.94zm-11 1L8.5 8.5l.94-2.06 2.06-.94-2.06-.94L8.5 2.5l-.94 2.06-2.06.94zm10 10l.94 2.06.94-2.06 2.06-.94-2.06-.94-.94-2.06-.94 2.06-2.06.94z\"/><path d=\"M17.41 7.96l-1.37-1.37c-.4-.4-.92-.59-1.43-.59-.52 0-1.04.2-1.43.59L10.3 9.45l-7.72 7.72c-.78.78-.78 2.05 0 2.83L4 21.41c.39.39.9.59 1.41.59.51 0 1.02-.2 1.41-.59l7.78-7.78 2.81-2.81c.8-.78.8-2.07 0-2.86zM5.41 20L4 18.59l7.72-7.72 1.47 1.35L5.41 20z\"/>\n",
              "  </svg>\n",
              "      </button>\n",
              "      \n",
              "  <style>\n",
              "    .colab-df-container {\n",
              "      display:flex;\n",
              "      flex-wrap:wrap;\n",
              "      gap: 12px;\n",
              "    }\n",
              "\n",
              "    .colab-df-convert {\n",
              "      background-color: #E8F0FE;\n",
              "      border: none;\n",
              "      border-radius: 50%;\n",
              "      cursor: pointer;\n",
              "      display: none;\n",
              "      fill: #1967D2;\n",
              "      height: 32px;\n",
              "      padding: 0 0 0 0;\n",
              "      width: 32px;\n",
              "    }\n",
              "\n",
              "    .colab-df-convert:hover {\n",
              "      background-color: #E2EBFA;\n",
              "      box-shadow: 0px 1px 2px rgba(60, 64, 67, 0.3), 0px 1px 3px 1px rgba(60, 64, 67, 0.15);\n",
              "      fill: #174EA6;\n",
              "    }\n",
              "\n",
              "    [theme=dark] .colab-df-convert {\n",
              "      background-color: #3B4455;\n",
              "      fill: #D2E3FC;\n",
              "    }\n",
              "\n",
              "    [theme=dark] .colab-df-convert:hover {\n",
              "      background-color: #434B5C;\n",
              "      box-shadow: 0px 1px 3px 1px rgba(0, 0, 0, 0.15);\n",
              "      filter: drop-shadow(0px 1px 2px rgba(0, 0, 0, 0.3));\n",
              "      fill: #FFFFFF;\n",
              "    }\n",
              "  </style>\n",
              "\n",
              "      <script>\n",
              "        const buttonEl =\n",
              "          document.querySelector('#df-a130844e-d3a4-4bee-9bfe-089cdc505c5b button.colab-df-convert');\n",
              "        buttonEl.style.display =\n",
              "          google.colab.kernel.accessAllowed ? 'block' : 'none';\n",
              "\n",
              "        async function convertToInteractive(key) {\n",
              "          const element = document.querySelector('#df-a130844e-d3a4-4bee-9bfe-089cdc505c5b');\n",
              "          const dataTable =\n",
              "            await google.colab.kernel.invokeFunction('convertToInteractive',\n",
              "                                                     [key], {});\n",
              "          if (!dataTable) return;\n",
              "\n",
              "          const docLinkHtml = 'Like what you see? Visit the ' +\n",
              "            '<a target=\"_blank\" href=https://colab.research.google.com/notebooks/data_table.ipynb>data table notebook</a>'\n",
              "            + ' to learn more about interactive tables.';\n",
              "          element.innerHTML = '';\n",
              "          dataTable['output_type'] = 'display_data';\n",
              "          await google.colab.output.renderOutput(dataTable, element);\n",
              "          const docLink = document.createElement('div');\n",
              "          docLink.innerHTML = docLinkHtml;\n",
              "          element.appendChild(docLink);\n",
              "        }\n",
              "      </script>\n",
              "    </div>\n",
              "  </div>\n",
              "  "
            ]
          },
          "metadata": {},
          "execution_count": 9
        }
      ]
    },
    {
      "cell_type": "code",
      "source": [
        "data.tail()"
      ],
      "metadata": {
        "colab": {
          "base_uri": "https://localhost:8080/",
          "height": 206
        },
        "id": "C-4r4Mj3Clqs",
        "outputId": "3c3d3dfa-db8f-401e-fd62-ff11796fb06f"
      },
      "execution_count": 10,
      "outputs": [
        {
          "output_type": "execute_result",
          "data": {
            "text/plain": [
              "     15.26  14.84   0.871  5.763  3.312  2.221   5.22  1\n",
              "178  12.21  13.47  0.8453  5.357  2.893  1.661  5.178  3\n",
              "179  11.41  12.95  0.8560  5.090  2.775  4.957  4.825  3\n",
              "180  12.46  13.41  0.8706  5.236  3.017  4.987  5.147  3\n",
              "181  12.19  13.36  0.8579  5.240  2.909  4.857  5.158  3\n",
              "182  11.65  13.07  0.8575  5.108  2.850  5.209  5.135  3"
            ],
            "text/html": [
              "\n",
              "  <div id=\"df-874f42ae-5536-4678-b4ae-28bad5531946\">\n",
              "    <div class=\"colab-df-container\">\n",
              "      <div>\n",
              "<style scoped>\n",
              "    .dataframe tbody tr th:only-of-type {\n",
              "        vertical-align: middle;\n",
              "    }\n",
              "\n",
              "    .dataframe tbody tr th {\n",
              "        vertical-align: top;\n",
              "    }\n",
              "\n",
              "    .dataframe thead th {\n",
              "        text-align: right;\n",
              "    }\n",
              "</style>\n",
              "<table border=\"1\" class=\"dataframe\">\n",
              "  <thead>\n",
              "    <tr style=\"text-align: right;\">\n",
              "      <th></th>\n",
              "      <th>15.26</th>\n",
              "      <th>14.84</th>\n",
              "      <th>0.871</th>\n",
              "      <th>5.763</th>\n",
              "      <th>3.312</th>\n",
              "      <th>2.221</th>\n",
              "      <th>5.22</th>\n",
              "      <th>1</th>\n",
              "    </tr>\n",
              "  </thead>\n",
              "  <tbody>\n",
              "    <tr>\n",
              "      <th>178</th>\n",
              "      <td>12.21</td>\n",
              "      <td>13.47</td>\n",
              "      <td>0.8453</td>\n",
              "      <td>5.357</td>\n",
              "      <td>2.893</td>\n",
              "      <td>1.661</td>\n",
              "      <td>5.178</td>\n",
              "      <td>3</td>\n",
              "    </tr>\n",
              "    <tr>\n",
              "      <th>179</th>\n",
              "      <td>11.41</td>\n",
              "      <td>12.95</td>\n",
              "      <td>0.8560</td>\n",
              "      <td>5.090</td>\n",
              "      <td>2.775</td>\n",
              "      <td>4.957</td>\n",
              "      <td>4.825</td>\n",
              "      <td>3</td>\n",
              "    </tr>\n",
              "    <tr>\n",
              "      <th>180</th>\n",
              "      <td>12.46</td>\n",
              "      <td>13.41</td>\n",
              "      <td>0.8706</td>\n",
              "      <td>5.236</td>\n",
              "      <td>3.017</td>\n",
              "      <td>4.987</td>\n",
              "      <td>5.147</td>\n",
              "      <td>3</td>\n",
              "    </tr>\n",
              "    <tr>\n",
              "      <th>181</th>\n",
              "      <td>12.19</td>\n",
              "      <td>13.36</td>\n",
              "      <td>0.8579</td>\n",
              "      <td>5.240</td>\n",
              "      <td>2.909</td>\n",
              "      <td>4.857</td>\n",
              "      <td>5.158</td>\n",
              "      <td>3</td>\n",
              "    </tr>\n",
              "    <tr>\n",
              "      <th>182</th>\n",
              "      <td>11.65</td>\n",
              "      <td>13.07</td>\n",
              "      <td>0.8575</td>\n",
              "      <td>5.108</td>\n",
              "      <td>2.850</td>\n",
              "      <td>5.209</td>\n",
              "      <td>5.135</td>\n",
              "      <td>3</td>\n",
              "    </tr>\n",
              "  </tbody>\n",
              "</table>\n",
              "</div>\n",
              "      <button class=\"colab-df-convert\" onclick=\"convertToInteractive('df-874f42ae-5536-4678-b4ae-28bad5531946')\"\n",
              "              title=\"Convert this dataframe to an interactive table.\"\n",
              "              style=\"display:none;\">\n",
              "        \n",
              "  <svg xmlns=\"http://www.w3.org/2000/svg\" height=\"24px\"viewBox=\"0 0 24 24\"\n",
              "       width=\"24px\">\n",
              "    <path d=\"M0 0h24v24H0V0z\" fill=\"none\"/>\n",
              "    <path d=\"M18.56 5.44l.94 2.06.94-2.06 2.06-.94-2.06-.94-.94-2.06-.94 2.06-2.06.94zm-11 1L8.5 8.5l.94-2.06 2.06-.94-2.06-.94L8.5 2.5l-.94 2.06-2.06.94zm10 10l.94 2.06.94-2.06 2.06-.94-2.06-.94-.94-2.06-.94 2.06-2.06.94z\"/><path d=\"M17.41 7.96l-1.37-1.37c-.4-.4-.92-.59-1.43-.59-.52 0-1.04.2-1.43.59L10.3 9.45l-7.72 7.72c-.78.78-.78 2.05 0 2.83L4 21.41c.39.39.9.59 1.41.59.51 0 1.02-.2 1.41-.59l7.78-7.78 2.81-2.81c.8-.78.8-2.07 0-2.86zM5.41 20L4 18.59l7.72-7.72 1.47 1.35L5.41 20z\"/>\n",
              "  </svg>\n",
              "      </button>\n",
              "      \n",
              "  <style>\n",
              "    .colab-df-container {\n",
              "      display:flex;\n",
              "      flex-wrap:wrap;\n",
              "      gap: 12px;\n",
              "    }\n",
              "\n",
              "    .colab-df-convert {\n",
              "      background-color: #E8F0FE;\n",
              "      border: none;\n",
              "      border-radius: 50%;\n",
              "      cursor: pointer;\n",
              "      display: none;\n",
              "      fill: #1967D2;\n",
              "      height: 32px;\n",
              "      padding: 0 0 0 0;\n",
              "      width: 32px;\n",
              "    }\n",
              "\n",
              "    .colab-df-convert:hover {\n",
              "      background-color: #E2EBFA;\n",
              "      box-shadow: 0px 1px 2px rgba(60, 64, 67, 0.3), 0px 1px 3px 1px rgba(60, 64, 67, 0.15);\n",
              "      fill: #174EA6;\n",
              "    }\n",
              "\n",
              "    [theme=dark] .colab-df-convert {\n",
              "      background-color: #3B4455;\n",
              "      fill: #D2E3FC;\n",
              "    }\n",
              "\n",
              "    [theme=dark] .colab-df-convert:hover {\n",
              "      background-color: #434B5C;\n",
              "      box-shadow: 0px 1px 3px 1px rgba(0, 0, 0, 0.15);\n",
              "      filter: drop-shadow(0px 1px 2px rgba(0, 0, 0, 0.3));\n",
              "      fill: #FFFFFF;\n",
              "    }\n",
              "  </style>\n",
              "\n",
              "      <script>\n",
              "        const buttonEl =\n",
              "          document.querySelector('#df-874f42ae-5536-4678-b4ae-28bad5531946 button.colab-df-convert');\n",
              "        buttonEl.style.display =\n",
              "          google.colab.kernel.accessAllowed ? 'block' : 'none';\n",
              "\n",
              "        async function convertToInteractive(key) {\n",
              "          const element = document.querySelector('#df-874f42ae-5536-4678-b4ae-28bad5531946');\n",
              "          const dataTable =\n",
              "            await google.colab.kernel.invokeFunction('convertToInteractive',\n",
              "                                                     [key], {});\n",
              "          if (!dataTable) return;\n",
              "\n",
              "          const docLinkHtml = 'Like what you see? Visit the ' +\n",
              "            '<a target=\"_blank\" href=https://colab.research.google.com/notebooks/data_table.ipynb>data table notebook</a>'\n",
              "            + ' to learn more about interactive tables.';\n",
              "          element.innerHTML = '';\n",
              "          dataTable['output_type'] = 'display_data';\n",
              "          await google.colab.output.renderOutput(dataTable, element);\n",
              "          const docLink = document.createElement('div');\n",
              "          docLink.innerHTML = docLinkHtml;\n",
              "          element.appendChild(docLink);\n",
              "        }\n",
              "      </script>\n",
              "    </div>\n",
              "  </div>\n",
              "  "
            ]
          },
          "metadata": {},
          "execution_count": 10
        }
      ]
    },
    {
      "cell_type": "code",
      "source": [
        "data.info()"
      ],
      "metadata": {
        "colab": {
          "base_uri": "https://localhost:8080/"
        },
        "id": "kBs3dMK8Cn2j",
        "outputId": "cd0a49f9-9742-49b6-bea7-ee0ce9315dd5"
      },
      "execution_count": 11,
      "outputs": [
        {
          "output_type": "stream",
          "name": "stdout",
          "text": [
            "<class 'pandas.core.frame.DataFrame'>\n",
            "RangeIndex: 183 entries, 0 to 182\n",
            "Data columns (total 8 columns):\n",
            " #   Column  Non-Null Count  Dtype  \n",
            "---  ------  --------------  -----  \n",
            " 0   15.26   183 non-null    float64\n",
            " 1   14.84   183 non-null    float64\n",
            " 2   0.871   183 non-null    float64\n",
            " 3   5.763   183 non-null    float64\n",
            " 4   3.312   183 non-null    float64\n",
            " 5   2.221   183 non-null    float64\n",
            " 6   5.22    183 non-null    float64\n",
            " 7   1       183 non-null    int64  \n",
            "dtypes: float64(7), int64(1)\n",
            "memory usage: 11.6 KB\n"
          ]
        }
      ]
    },
    {
      "cell_type": "code",
      "source": [
        "print(data.shape)"
      ],
      "metadata": {
        "colab": {
          "base_uri": "https://localhost:8080/"
        },
        "id": "KAkpNl6gCpkT",
        "outputId": "99fdf5b2-b8ea-4642-d543-f9ddfb28b1e5"
      },
      "execution_count": 12,
      "outputs": [
        {
          "output_type": "stream",
          "name": "stdout",
          "text": [
            "(183, 8)\n"
          ]
        }
      ]
    },
    {
      "cell_type": "markdown",
      "source": [
        "####Spliting Data"
      ],
      "metadata": {
        "id": "w9dTN2noC17H"
      }
    },
    {
      "cell_type": "code",
      "source": [
        "X = data.iloc[:, :-1]\n",
        "y = data.iloc[:, len(data.columns)-1]"
      ],
      "metadata": {
        "id": "3VfLBy8nC7Sa"
      },
      "execution_count": 13,
      "outputs": []
    },
    {
      "cell_type": "code",
      "source": [
        "Xtrain, Xtest, ytrain, ytest = train_test_split(X, y,test_size=0.2)"
      ],
      "metadata": {
        "id": "ylKfCFhoDWzo"
      },
      "execution_count": 14,
      "outputs": []
    },
    {
      "cell_type": "markdown",
      "source": [
        "####Logistic Regression"
      ],
      "metadata": {
        "id": "sJO5UTWdD8bb"
      }
    },
    {
      "cell_type": "code",
      "source": [
        "model1 = LogisticRegression()\n",
        "model1.fit(Xtrain,ytrain)"
      ],
      "metadata": {
        "colab": {
          "base_uri": "https://localhost:8080/"
        },
        "id": "4CJcyayKD_Mx",
        "outputId": "9a1287f8-f259-4380-b2c6-99b408c01fbb"
      },
      "execution_count": 15,
      "outputs": [
        {
          "output_type": "stream",
          "name": "stderr",
          "text": [
            "/usr/local/lib/python3.7/dist-packages/sklearn/linear_model/_logistic.py:818: ConvergenceWarning: lbfgs failed to converge (status=1):\n",
            "STOP: TOTAL NO. of ITERATIONS REACHED LIMIT.\n",
            "\n",
            "Increase the number of iterations (max_iter) or scale the data as shown in:\n",
            "    https://scikit-learn.org/stable/modules/preprocessing.html\n",
            "Please also refer to the documentation for alternative solver options:\n",
            "    https://scikit-learn.org/stable/modules/linear_model.html#logistic-regression\n",
            "  extra_warning_msg=_LOGISTIC_SOLVER_CONVERGENCE_MSG,\n"
          ]
        },
        {
          "output_type": "execute_result",
          "data": {
            "text/plain": [
              "LogisticRegression()"
            ]
          },
          "metadata": {},
          "execution_count": 15
        }
      ]
    },
    {
      "cell_type": "code",
      "source": [
        "ypred1 = model1.predict(Xtest)\n",
        "print(metrics.classification_report(ypred1,ytest))\n",
        "print(\"\\n\\nAccuracy Score:\", metrics.accuracy_score(ytest, ypred1).round(2)*100, \"%\")"
      ],
      "metadata": {
        "colab": {
          "base_uri": "https://localhost:8080/"
        },
        "id": "G8sc1RGJED7s",
        "outputId": "1390504c-e273-4b4c-8a63-48a1f8a17f22"
      },
      "execution_count": 16,
      "outputs": [
        {
          "output_type": "stream",
          "name": "stdout",
          "text": [
            "              precision    recall  f1-score   support\n",
            "\n",
            "           1       0.86      0.92      0.89        13\n",
            "           2       0.91      0.83      0.87        12\n",
            "           3       1.00      1.00      1.00        12\n",
            "\n",
            "    accuracy                           0.92        37\n",
            "   macro avg       0.92      0.92      0.92        37\n",
            "weighted avg       0.92      0.92      0.92        37\n",
            "\n",
            "\n",
            "\n",
            "Accuracy Score: 92.0 %\n"
          ]
        }
      ]
    },
    {
      "cell_type": "code",
      "source": [
        "sns.heatmap(confusion_matrix(ytest, ypred1), annot=True,fmt=\"d\",cmap='Blues')"
      ],
      "metadata": {
        "colab": {
          "base_uri": "https://localhost:8080/",
          "height": 286
        },
        "id": "EuBu5nU8EJjB",
        "outputId": "8d644fc2-2be2-449e-b2dc-701375f529d7"
      },
      "execution_count": 17,
      "outputs": [
        {
          "output_type": "execute_result",
          "data": {
            "text/plain": [
              "<matplotlib.axes._subplots.AxesSubplot at 0x7fbe8757edd0>"
            ]
          },
          "metadata": {},
          "execution_count": 17
        },
        {
          "output_type": "display_data",
          "data": {
            "text/plain": [
              "<Figure size 432x288 with 2 Axes>"
            ],
            "image/png": "[encoded data removed]"
          },
          "metadata": {
            "needs_background": "light"
          }
        }
      ]
    },
    {
      "cell_type": "markdown",
      "source": [
        "## K Nearest Neighbours"
      ],
      "metadata": {
        "id": "Um2fh09IEL-g"
      }
    },
    {
      "cell_type": "code",
      "source": [
        "model2=KNeighborsClassifier(n_neighbors=5)\n",
        "model2.fit(Xtrain,ytrain)"
      ],
      "metadata": {
        "colab": {
          "base_uri": "https://localhost:8080/"
        },
        "id": "p5SbjKCrEQhB",
        "outputId": "0a26c288-1586-4009-f283-f7b4325f67bd"
      },
      "execution_count": 18,
      "outputs": [
        {
          "output_type": "execute_result",
          "data": {
            "text/plain": [
              "KNeighborsClassifier()"
            ]
          },
          "metadata": {},
          "execution_count": 18
        }
      ]
    },
    {
      "cell_type": "code",
      "source": [
        "ypred2 = model2.predict(Xtest)\n",
        "print(metrics.classification_report(ypred2,ytest))\n",
        "print(\"\\n\\nAccuracy Score:\", metrics.accuracy_score(ytest, ypred2).round(2)*100, \"%\")"
      ],
      "metadata": {
        "colab": {
          "base_uri": "https://localhost:8080/"
        },
        "id": "XMFnoqUfEVCA",
        "outputId": "6e7cd76a-18d1-4457-b009-be3f65cba22a"
      },
      "execution_count": 19,
      "outputs": [
        {
          "output_type": "stream",
          "name": "stdout",
          "text": [
            "              precision    recall  f1-score   support\n",
            "\n",
            "           1       0.79      0.85      0.81        13\n",
            "           2       0.91      0.91      0.91        11\n",
            "           3       0.92      0.85      0.88        13\n",
            "\n",
            "    accuracy                           0.86        37\n",
            "   macro avg       0.87      0.87      0.87        37\n",
            "weighted avg       0.87      0.86      0.87        37\n",
            "\n",
            "\n",
            "\n",
            "Accuracy Score: 86.0 %\n"
          ]
        }
      ]
    },
    {
      "cell_type": "code",
      "source": [
        "sns.heatmap(confusion_matrix(ytest, ypred2), annot=True,fmt=\"d\",cmap='Blues')"
      ],
      "metadata": {
        "colab": {
          "base_uri": "https://localhost:8080/",
          "height": 282
        },
        "id": "qGIYu3ICEbXW",
        "outputId": "7d223b9f-5b99-4adb-f90b-3bf42d671ca3"
      },
      "execution_count": 20,
      "outputs": [
        {
          "output_type": "execute_result",
          "data": {
            "text/plain": [
              "<matplotlib.axes._subplots.AxesSubplot at 0x7fbe84807190>"
            ]
          },
          "metadata": {},
          "execution_count": 20
        },
        {
          "output_type": "display_data",
          "data": {
            "text/plain": [
              "<Figure size 432x288 with 2 Axes>"
            ],
            "image/png": "[encoded data removed]"
          },
          "metadata": {
            "needs_background": "light"
          }
        }
      ]
    },
    {
      "cell_type": "markdown",
      "source": [
        "## Support Vector Machines"
      ],
      "metadata": {
        "id": "wCiB7w1ZEh4m"
      }
    },
    {
      "cell_type": "code",
      "source": [
        "from sklearn.preprocessing import StandardScaler\n",
        "sc = StandardScaler()\n",
        "Xtrain = sc.fit_transform(Xtrain)\n",
        "Xtest = sc.transform(Xtest)"
      ],
      "metadata": {
        "id": "8-8_tnlYErcX"
      },
      "execution_count": 21,
      "outputs": []
    },
    {
      "cell_type": "code",
      "source": [
        "model3=SVC(kernel = 'rbf', random_state = 0)\n",
        "model3.fit(Xtrain,ytrain)\n",
        "ypred3 = model3.predict(Xtest)\n",
        "print(metrics.classification_report(ypred3,ytest))\n",
        "print(\"\\n\\nAccuracy Score:\", metrics.accuracy_score(ytest, ypred3).round(2)*100, \"%\")"
      ],
      "metadata": {
        "colab": {
          "base_uri": "https://localhost:8080/"
        },
        "id": "_jHgaV6CEuK7",
        "outputId": "db72a30b-18aa-4a86-9e00-5dac996d4499"
      },
      "execution_count": 22,
      "outputs": [
        {
          "output_type": "stream",
          "name": "stdout",
          "text": [
            "              precision    recall  f1-score   support\n",
            "\n",
            "           1       1.00      1.00      1.00        14\n",
            "           2       1.00      1.00      1.00        11\n",
            "           3       1.00      1.00      1.00        12\n",
            "\n",
            "    accuracy                           1.00        37\n",
            "   macro avg       1.00      1.00      1.00        37\n",
            "weighted avg       1.00      1.00      1.00        37\n",
            "\n",
            "\n",
            "\n",
            "Accuracy Score: 100.0 %\n"
          ]
        }
      ]
    },
    {
      "cell_type": "code",
      "source": [
        "sns.heatmap(confusion_matrix(ytest, ypred3), annot=True,fmt=\"d\",cmap='Blues')"
      ],
      "metadata": {
        "colab": {
          "base_uri": "https://localhost:8080/",
          "height": 286
        },
        "id": "OnObKN3SE2m8",
        "outputId": "e435e626-049f-4934-b808-f823240cc828"
      },
      "execution_count": 23,
      "outputs": [
        {
          "output_type": "execute_result",
          "data": {
            "text/plain": [
              "<matplotlib.axes._subplots.AxesSubplot at 0x7fbe84732d50>"
            ]
          },
          "metadata": {},
          "execution_count": 23
        },
        {
          "output_type": "display_data",
          "data": {
            "text/plain": [
              "<Figure size 432x288 with 2 Axes>"
            ],
            "image/png": "[encoded data removed]"
          },
          "metadata": {
            "needs_background": "light"
          }
        }
      ]
    },
    {
      "cell_type": "markdown",
      "source": [
        "####Random Forest\n"
      ],
      "metadata": {
        "id": "ocveskhJFkB4"
      }
    },
    {
      "cell_type": "code",
      "source": [
        "model4=RandomForestClassifier(n_estimators=100)\n",
        "model4.fit(Xtrain,ytrain)\n",
        "ypred4 = model4.predict(Xtest)\n",
        "print(metrics.classification_report(ypred4,ytest))\n",
        "print(\"\\n\\nAccuracy Score:\", metrics.accuracy_score(ytest, ypred4).round(2)*100, \"%\")"
      ],
      "metadata": {
        "colab": {
          "base_uri": "https://localhost:8080/"
        },
        "id": "rY6VfhKTFn28",
        "outputId": "248cedd7-5e74-420a-f94d-a3de0c8fc3ea"
      },
      "execution_count": 24,
      "outputs": [
        {
          "output_type": "stream",
          "name": "stdout",
          "text": [
            "              precision    recall  f1-score   support\n",
            "\n",
            "           1       1.00      1.00      1.00        14\n",
            "           2       1.00      1.00      1.00        11\n",
            "           3       1.00      1.00      1.00        12\n",
            "\n",
            "    accuracy                           1.00        37\n",
            "   macro avg       1.00      1.00      1.00        37\n",
            "weighted avg       1.00      1.00      1.00        37\n",
            "\n",
            "\n",
            "\n",
            "Accuracy Score: 100.0 %\n"
          ]
        }
      ]
    },
    {
      "cell_type": "code",
      "source": [
        "sns.heatmap(confusion_matrix(ytest, ypred4), annot=True,fmt=\"d\",cmap='Blues')"
      ],
      "metadata": {
        "colab": {
          "base_uri": "https://localhost:8080/",
          "height": 286
        },
        "id": "eqeKy1n5GYoy",
        "outputId": "0d19cd8a-98f1-4267-a32c-0baabcec1b67"
      },
      "execution_count": 26,
      "outputs": [
        {
          "output_type": "execute_result",
          "data": {
            "text/plain": [
              "<matplotlib.axes._subplots.AxesSubplot at 0x7fbe845da2d0>"
            ]
          },
          "metadata": {},
          "execution_count": 26
        },
        {
          "output_type": "display_data",
          "data": {
            "text/plain": [
              "<Figure size 432x288 with 2 Axes>"
            ],
            "image/png": "[encoded data removed]"
          },
          "metadata": {
            "needs_background": "light"
          }
        }
      ]
    },
    {
      "cell_type": "markdown",
      "source": [
        "####Neural Network"
      ],
      "metadata": {
        "id": "gObFiPe6HagJ"
      }
    },
    {
      "cell_type": "code",
      "source": [
        "mean = Xtrain.mean(axis=0)\n",
        "std = Xtrain.std(axis=0)\n",
        "nn_xtrain = (Xtrain - mean) / std\n",
        "nn_xtest = (Xtest - mean) / std\n",
        "model5 = Sequential()\n",
        "model5.add(Dense(128,input_shape=(7, ), activation='relu', name='dense_1'))\n",
        "model5.add(Dense(64, activation='relu', name='dense_2'))\n",
        "model5.add(Dense(1, activation='relu', name='dense_output'))\n",
        "model5.summary()\n",
        "\n",
        "model5.compile(loss='binary_crossentropy', optimizer='adam', metrics=['accuracy'])\n",
        "model5.fit(Xtrain, ytrain, epochs=100, batch_size=10)\n",
        "ypred5 = model5.predict(Xtest)"
      ],
      "metadata": {
        "colab": {
          "base_uri": "https://localhost:8080/"
        },
        "id": "nntGMmbZH7jp",
        "outputId": "eb7d184c-8e53-4b7c-a5c4-64c1b674b08e"
      },
      "execution_count": 27,
      "outputs": [
        {
          "output_type": "stream",
          "name": "stdout",
          "text": [
            "Model: \"sequential\"\n",
            "_________________________________________________________________\n",
            " Layer (type)                Output Shape              Param #   \n",
            "=================================================================\n",
            " dense_1 (Dense)             (None, 128)               1024      \n",
            "                                                                 \n",
            " dense_2 (Dense)             (None, 64)                8256      \n",
            "                                                                 \n",
            " dense_output (Dense)        (None, 1)                 65        \n",
            "                                                                 \n",
            "=================================================================\n",
            "Total params: 9,345\n",
            "Trainable params: 9,345\n",
            "Non-trainable params: 0\n",
            "_________________________________________________________________\n",
            "Epoch 1/100\n",
            "15/15 [==============================] - 1s 2ms/step - loss: -3.0024 - accuracy: 0.1438\n",
            "Epoch 2/100\n",
            "15/15 [==============================] - 0s 3ms/step - loss: -11.9161 - accuracy: 0.3630\n",
            "Epoch 3/100\n",
            "15/15 [==============================] - 0s 3ms/step - loss: -12.6539 - accuracy: 0.3767\n",
            "Epoch 4/100\n",
            "15/15 [==============================] - 0s 2ms/step - loss: -12.7533 - accuracy: 0.3767\n",
            "Epoch 5/100\n",
            "15/15 [==============================] - 0s 2ms/step - loss: -12.8356 - accuracy: 0.3767\n",
            "Epoch 6/100\n",
            "15/15 [==============================] - 0s 2ms/step - loss: -12.8368 - accuracy: 0.3767\n",
            "Epoch 7/100\n",
            "15/15 [==============================] - 0s 2ms/step - loss: -12.8375 - accuracy: 0.3767\n",
            "Epoch 8/100\n",
            "15/15 [==============================] - 0s 3ms/step - loss: -12.8384 - accuracy: 0.3767\n",
            "Epoch 9/100\n",
            "15/15 [==============================] - 0s 2ms/step - loss: -12.8392 - accuracy: 0.3767\n",
            "Epoch 10/100\n",
            "15/15 [==============================] - 0s 2ms/step - loss: -12.8402 - accuracy: 0.3767\n",
            "Epoch 11/100\n",
            "15/15 [==============================] - 0s 2ms/step - loss: -12.8411 - accuracy: 0.3767\n",
            "Epoch 12/100\n",
            "15/15 [==============================] - 0s 2ms/step - loss: -12.8417 - accuracy: 0.3767\n",
            "Epoch 13/100\n",
            "15/15 [==============================] - 0s 2ms/step - loss: -12.8423 - accuracy: 0.3767\n",
            "Epoch 14/100\n",
            "15/15 [==============================] - 0s 2ms/step - loss: -12.8425 - accuracy: 0.3767\n",
            "Epoch 15/100\n",
            "15/15 [==============================] - 0s 2ms/step - loss: -12.8428 - accuracy: 0.3767\n",
            "Epoch 16/100\n",
            "15/15 [==============================] - 0s 3ms/step - loss: -12.8430 - accuracy: 0.3767\n",
            "Epoch 17/100\n",
            "15/15 [==============================] - 0s 2ms/step - loss: -12.8432 - accuracy: 0.3767\n",
            "Epoch 18/100\n",
            "15/15 [==============================] - 0s 2ms/step - loss: -12.8436 - accuracy: 0.3767\n",
            "Epoch 19/100\n",
            "15/15 [==============================] - 0s 2ms/step - loss: -12.8439 - accuracy: 0.3767\n",
            "Epoch 20/100\n",
            "15/15 [==============================] - 0s 2ms/step - loss: -12.8440 - accuracy: 0.3767\n",
            "Epoch 21/100\n",
            "15/15 [==============================] - 0s 2ms/step - loss: -12.8444 - accuracy: 0.3767\n",
            "Epoch 22/100\n",
            "15/15 [==============================] - 0s 3ms/step - loss: -12.8447 - accuracy: 0.3767\n",
            "Epoch 23/100\n",
            "15/15 [==============================] - 0s 2ms/step - loss: -12.8450 - accuracy: 0.3767\n",
            "Epoch 24/100\n",
            "15/15 [==============================] - 0s 2ms/step - loss: -12.8452 - accuracy: 0.3767\n",
            "Epoch 25/100\n",
            "15/15 [==============================] - 0s 3ms/step - loss: -12.8454 - accuracy: 0.3767\n",
            "Epoch 26/100\n",
            "15/15 [==============================] - 0s 2ms/step - loss: -12.8455 - accuracy: 0.3767\n",
            "Epoch 27/100\n",
            "15/15 [==============================] - 0s 2ms/step - loss: -12.8457 - accuracy: 0.3767\n",
            "Epoch 28/100\n",
            "15/15 [==============================] - 0s 2ms/step - loss: -12.8459 - accuracy: 0.3767\n",
            "Epoch 29/100\n",
            "15/15 [==============================] - 0s 2ms/step - loss: -12.8461 - accuracy: 0.3767\n",
            "Epoch 30/100\n",
            "15/15 [==============================] - 0s 2ms/step - loss: -12.8462 - accuracy: 0.3767\n",
            "Epoch 31/100\n",
            "15/15 [==============================] - 0s 3ms/step - loss: -12.8464 - accuracy: 0.3767\n",
            "Epoch 32/100\n",
            "15/15 [==============================] - 0s 2ms/step - loss: -12.8466 - accuracy: 0.3767\n",
            "Epoch 33/100\n",
            "15/15 [==============================] - 0s 2ms/step - loss: -12.8467 - accuracy: 0.3767\n",
            "Epoch 34/100\n",
            "15/15 [==============================] - 0s 2ms/step - loss: -12.8468 - accuracy: 0.3767\n",
            "Epoch 35/100\n",
            "15/15 [==============================] - 0s 2ms/step - loss: -12.8469 - accuracy: 0.3767\n",
            "Epoch 36/100\n",
            "15/15 [==============================] - 0s 2ms/step - loss: -12.8469 - accuracy: 0.3767\n",
            "Epoch 37/100\n",
            "15/15 [==============================] - 0s 2ms/step - loss: -12.8470 - accuracy: 0.3767\n",
            "Epoch 38/100\n",
            "15/15 [==============================] - 0s 2ms/step - loss: -12.8470 - accuracy: 0.3767\n",
            "Epoch 39/100\n",
            "15/15 [==============================] - 0s 2ms/step - loss: -12.8470 - accuracy: 0.3767\n",
            "Epoch 40/100\n",
            "15/15 [==============================] - 0s 3ms/step - loss: -12.8470 - accuracy: 0.3767\n",
            "Epoch 41/100\n",
            "15/15 [==============================] - 0s 3ms/step - loss: -12.8470 - accuracy: 0.3767\n",
            "Epoch 42/100\n",
            "15/15 [==============================] - 0s 2ms/step - loss: -12.8470 - accuracy: 0.3767\n",
            "Epoch 43/100\n",
            "15/15 [==============================] - 0s 3ms/step - loss: -12.8470 - accuracy: 0.3767\n",
            "Epoch 44/100\n",
            "15/15 [==============================] - 0s 2ms/step - loss: -12.8470 - accuracy: 0.3767\n",
            "Epoch 45/100\n",
            "15/15 [==============================] - 0s 2ms/step - loss: -12.8470 - accuracy: 0.3767\n",
            "Epoch 46/100\n",
            "15/15 [==============================] - 0s 2ms/step - loss: -12.8470 - accuracy: 0.3767\n",
            "Epoch 47/100\n",
            "15/15 [==============================] - 0s 3ms/step - loss: -12.8470 - accuracy: 0.3767\n",
            "Epoch 48/100\n",
            "15/15 [==============================] - 0s 2ms/step - loss: -12.8470 - accuracy: 0.3767\n",
            "Epoch 49/100\n",
            "15/15 [==============================] - 0s 3ms/step - loss: -12.8470 - accuracy: 0.3767\n",
            "Epoch 50/100\n",
            "15/15 [==============================] - 0s 2ms/step - loss: -12.8470 - accuracy: 0.3767\n",
            "Epoch 51/100\n",
            "15/15 [==============================] - 0s 2ms/step - loss: -12.8470 - accuracy: 0.3767\n",
            "Epoch 52/100\n",
            "15/15 [==============================] - 0s 2ms/step - loss: -12.8470 - accuracy: 0.3767\n",
            "Epoch 53/100\n",
            "15/15 [==============================] - 0s 3ms/step - loss: -12.8470 - accuracy: 0.3767\n",
            "Epoch 54/100\n",
            "15/15 [==============================] - 0s 2ms/step - loss: -12.8470 - accuracy: 0.3767\n",
            "Epoch 55/100\n",
            "15/15 [==============================] - 0s 2ms/step - loss: -12.8470 - accuracy: 0.3767\n",
            "Epoch 56/100\n",
            "15/15 [==============================] - 0s 2ms/step - loss: -12.8470 - accuracy: 0.3767\n",
            "Epoch 57/100\n",
            "15/15 [==============================] - 0s 2ms/step - loss: -12.8470 - accuracy: 0.3767\n",
            "Epoch 58/100\n",
            "15/15 [==============================] - 0s 2ms/step - loss: -12.8470 - accuracy: 0.3767\n",
            "Epoch 59/100\n",
            "15/15 [==============================] - 0s 2ms/step - loss: -12.8470 - accuracy: 0.3767\n",
            "Epoch 60/100\n",
            "15/15 [==============================] - 0s 2ms/step - loss: -12.8470 - accuracy: 0.3767\n",
            "Epoch 61/100\n",
            "15/15 [==============================] - 0s 2ms/step - loss: -12.8470 - accuracy: 0.3767\n",
            "Epoch 62/100\n",
            "15/15 [==============================] - 0s 2ms/step - loss: -12.8470 - accuracy: 0.3767\n",
            "Epoch 63/100\n",
            "15/15 [==============================] - 0s 2ms/step - loss: -12.8470 - accuracy: 0.3767\n",
            "Epoch 64/100\n",
            "15/15 [==============================] - 0s 2ms/step - loss: -12.8470 - accuracy: 0.3767\n",
            "Epoch 65/100\n",
            "15/15 [==============================] - 0s 2ms/step - loss: -12.8470 - accuracy: 0.3767\n",
            "Epoch 66/100\n",
            "15/15 [==============================] - 0s 2ms/step - loss: -12.8470 - accuracy: 0.3767\n",
            "Epoch 67/100\n",
            "15/15 [==============================] - 0s 2ms/step - loss: -12.8470 - accuracy: 0.3767\n",
            "Epoch 68/100\n",
            "15/15 [==============================] - 0s 2ms/step - loss: -12.8470 - accuracy: 0.3767\n",
            "Epoch 69/100\n",
            "15/15 [==============================] - 0s 2ms/step - loss: -12.8470 - accuracy: 0.3767\n",
            "Epoch 70/100\n",
            "15/15 [==============================] - 0s 2ms/step - loss: -12.8470 - accuracy: 0.3767\n",
            "Epoch 71/100\n",
            "15/15 [==============================] - 0s 3ms/step - loss: -12.8470 - accuracy: 0.3767\n",
            "Epoch 72/100\n",
            "15/15 [==============================] - 0s 3ms/step - loss: -12.8470 - accuracy: 0.3767\n",
            "Epoch 73/100\n",
            "15/15 [==============================] - 0s 2ms/step - loss: -12.8470 - accuracy: 0.3767\n",
            "Epoch 74/100\n",
            "15/15 [==============================] - 0s 2ms/step - loss: -12.8470 - accuracy: 0.3767\n",
            "Epoch 75/100\n",
            "15/15 [==============================] - 0s 2ms/step - loss: -12.8470 - accuracy: 0.3767\n",
            "Epoch 76/100\n",
            "15/15 [==============================] - 0s 3ms/step - loss: -12.8470 - accuracy: 0.3767\n",
            "Epoch 77/100\n",
            "15/15 [==============================] - 0s 2ms/step - loss: -12.8470 - accuracy: 0.3767\n",
            "Epoch 78/100\n",
            "15/15 [==============================] - 0s 2ms/step - loss: -12.8470 - accuracy: 0.3767\n",
            "Epoch 79/100\n",
            "15/15 [==============================] - 0s 2ms/step - loss: -12.8470 - accuracy: 0.3767\n",
            "Epoch 80/100\n",
            "15/15 [==============================] - 0s 2ms/step - loss: -12.8470 - accuracy: 0.3767\n",
            "Epoch 81/100\n",
            "15/15 [==============================] - 0s 2ms/step - loss: -12.8470 - accuracy: 0.3767\n",
            "Epoch 82/100\n",
            "15/15 [==============================] - 0s 2ms/step - loss: -12.8470 - accuracy: 0.3767\n",
            "Epoch 83/100\n",
            "15/15 [==============================] - 0s 3ms/step - loss: -12.8470 - accuracy: 0.3767\n",
            "Epoch 84/100\n",
            "15/15 [==============================] - 0s 2ms/step - loss: -12.8470 - accuracy: 0.3767\n",
            "Epoch 85/100\n",
            "15/15 [==============================] - 0s 2ms/step - loss: -12.8470 - accuracy: 0.3767\n",
            "Epoch 86/100\n",
            "15/15 [==============================] - 0s 3ms/step - loss: -12.8470 - accuracy: 0.3767\n",
            "Epoch 87/100\n",
            "15/15 [==============================] - 0s 2ms/step - loss: -12.8470 - accuracy: 0.3767\n",
            "Epoch 88/100\n",
            "15/15 [==============================] - 0s 2ms/step - loss: -12.8470 - accuracy: 0.3767\n",
            "Epoch 89/100\n",
            "15/15 [==============================] - 0s 3ms/step - loss: -12.8470 - accuracy: 0.3767\n",
            "Epoch 90/100\n",
            "15/15 [==============================] - 0s 3ms/step - loss: -12.8470 - accuracy: 0.3767\n",
            "Epoch 91/100\n",
            "15/15 [==============================] - 0s 2ms/step - loss: -12.8470 - accuracy: 0.3767\n",
            "Epoch 92/100\n",
            "15/15 [==============================] - 0s 2ms/step - loss: -12.8470 - accuracy: 0.3767\n",
            "Epoch 93/100\n",
            "15/15 [==============================] - 0s 3ms/step - loss: -12.8470 - accuracy: 0.3767\n",
            "Epoch 94/100\n",
            "15/15 [==============================] - 0s 2ms/step - loss: -12.8470 - accuracy: 0.3767\n",
            "Epoch 95/100\n",
            "15/15 [==============================] - 0s 2ms/step - loss: -12.8470 - accuracy: 0.3767\n",
            "Epoch 96/100\n",
            "15/15 [==============================] - 0s 2ms/step - loss: -12.8470 - accuracy: 0.3767\n",
            "Epoch 97/100\n",
            "15/15 [==============================] - 0s 2ms/step - loss: -12.8470 - accuracy: 0.3767\n",
            "Epoch 98/100\n",
            "15/15 [==============================] - 0s 2ms/step - loss: -12.8470 - accuracy: 0.3767\n",
            "Epoch 99/100\n",
            "15/15 [==============================] - 0s 2ms/step - loss: -12.8470 - accuracy: 0.3767\n",
            "Epoch 100/100\n",
            "15/15 [==============================] - 0s 2ms/step - loss: -12.8470 - accuracy: 0.3767\n"
          ]
        }
      ]
    },
    {
      "cell_type": "markdown",
      "source": [
        "## Visualising The Result"
      ],
      "metadata": {
        "id": "vnRCFfg0Fa4P"
      }
    },
    {
      "cell_type": "code",
      "source": [
        "plt.figure(figsize=(25,5))\n",
        "sns.distplot(ypred1, hist = False, color = 'red', label = 'Logistic Regression')\n",
        "sns.distplot(ypred2, hist = False, color = 'green', label = 'KNN')\n",
        "sns.distplot(ypred3, hist = False, color = 'yellow', label = 'SVM')\n",
        "sns.distplot(ypred4, hist = False, color = 'blue', label = 'Random Forest')\n",
        "sns.distplot(ypred5, hist = False, color = 'violet', label = 'Neural Network')\n",
        "plt.title('Actual vs Predicted Values', fontsize = 16)\n",
        "plt.xlabel('Values', fontsize = 12)\n",
        "plt.ylabel('Frequency', fontsize = 12)\n",
        "plt.legend(loc = 'upper left', fontsize = 13)"
      ],
      "metadata": {
        "colab": {
          "base_uri": "https://localhost:8080/",
          "height": 518
        },
        "id": "cy_gO_ICFAaf",
        "outputId": "f93dfa71-7f88-4107-a652-27b330c53e49"
      },
      "execution_count": null,
      "outputs": [
        {
          "output_type": "stream",
          "name": "stderr",
          "text": [
            "/usr/local/lib/python3.7/dist-packages/seaborn/distributions.py:2619: FutureWarning: `distplot` is a deprecated function and will be removed in a future version. Please adapt your code to use either `displot` (a figure-level function with similar flexibility) or `kdeplot` (an axes-level function for kernel density plots).\n",
            "  warnings.warn(msg, FutureWarning)\n",
            "/usr/local/lib/python3.7/dist-packages/seaborn/distributions.py:2619: FutureWarning: `distplot` is a deprecated function and will be removed in a future version. Please adapt your code to use either `displot` (a figure-level function with similar flexibility) or `kdeplot` (an axes-level function for kernel density plots).\n",
            "  warnings.warn(msg, FutureWarning)\n",
            "/usr/local/lib/python3.7/dist-packages/seaborn/distributions.py:2619: FutureWarning: `distplot` is a deprecated function and will be removed in a future version. Please adapt your code to use either `displot` (a figure-level function with similar flexibility) or `kdeplot` (an axes-level function for kernel density plots).\n",
            "  warnings.warn(msg, FutureWarning)\n",
            "/usr/local/lib/python3.7/dist-packages/seaborn/distributions.py:2619: FutureWarning: `distplot` is a deprecated function and will be removed in a future version. Please adapt your code to use either `displot` (a figure-level function with similar flexibility) or `kdeplot` (an axes-level function for kernel density plots).\n",
            "  warnings.warn(msg, FutureWarning)\n",
            "/usr/local/lib/python3.7/dist-packages/seaborn/distributions.py:2619: FutureWarning: `distplot` is a deprecated function and will be removed in a future version. Please adapt your code to use either `displot` (a figure-level function with similar flexibility) or `kdeplot` (an axes-level function for kernel density plots).\n",
            "  warnings.warn(msg, FutureWarning)\n"
          ]
        },
        {
          "output_type": "execute_result",
          "data": {
            "text/plain": [
              "<matplotlib.legend.Legend at 0x7fb94539a750>"
            ]
          },
          "metadata": {},
          "execution_count": 46
        },
        {
          "output_type": "display_data",
          "data": {
            "text/plain": [
              "<Figure size 1800x360 with 1 Axes>"
            ],
            "image/png": "[encoded data removed]"
          },
          "metadata": {
            "needs_background": "light"
          }
        }
      ]
    }
  ]
}