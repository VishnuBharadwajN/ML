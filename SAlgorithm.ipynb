{
  "nbformat": 4,
  "nbformat_minor": 0,
  "metadata": {
    "colab": {
      "name": "SAlgorithm.ipynb",
      "provenance": [],
      "collapsed_sections": []
    },
    "kernelspec": {
      "name": "python3",
      "display_name": "Python 3"
    },
    "language_info": {
      "name": "python"
    }
  },
  "cells": [
    {
      "cell_type": "markdown",
      "source": [
        "**19BCE7478 - Nittoor Vishnu Bharadwaj**\n",
        "\n",
        "---\n",
        "\n"
      ],
      "metadata": {
        "id": "j7shuCl0nAoV"
      }
    },
    {
      "cell_type": "code",
      "execution_count": 21,
      "metadata": {
        "id": "h9UBftPGm28X"
      },
      "outputs": [],
      "source": [
        "import numpy as np\n"
      ]
    },
    {
      "cell_type": "code",
      "source": [
        "import pandas as pd"
      ],
      "metadata": {
        "id": "oHhxSttMns-8"
      },
      "execution_count": 22,
      "outputs": []
    },
    {
      "cell_type": "code",
      "source": [
        "data = pd.read_csv('/content/sample.csv',)"
      ],
      "metadata": {
        "id": "4XKS9Vu7oCJF"
      },
      "execution_count": 23,
      "outputs": []
    },
    {
      "cell_type": "code",
      "source": [
        "data.info()\n"
      ],
      "metadata": {
        "colab": {
          "base_uri": "https://localhost:8080/",
          "height": 0
        },
        "id": "LHkvBPwPsyno",
        "outputId": "41dabb8b-bcd7-4c40-84f6-6a4af51c913c"
      },
      "execution_count": 24,
      "outputs": [
        {
          "output_type": "stream",
          "name": "stdout",
          "text": [
            "<class 'pandas.core.frame.DataFrame'>\n",
            "RangeIndex: 4 entries, 0 to 3\n",
            "Data columns (total 6 columns):\n",
            " #   Column     Non-Null Count  Dtype \n",
            "---  ------     --------------  ----- \n",
            " 0   Citations  4 non-null      object\n",
            " 1   Size       4 non-null      object\n",
            " 2   InLibrary  4 non-null      object\n",
            " 3   Price      4 non-null      object\n",
            " 4   Editions   4 non-null      object\n",
            " 5   Buy        4 non-null      object\n",
            "dtypes: object(6)\n",
            "memory usage: 320.0+ bytes\n"
          ]
        }
      ]
    },
    {
      "cell_type": "code",
      "source": [
        "a = []\n",
        "print(\"\\nTraining Data Set is : \\n\")\n",
        "with open('/content/sample.csv', 'r') as csvfile:\n",
        "  reader = csv.reader(csvfile)\n",
        "  for row in reader:\n",
        "    a.append(row)\n",
        "    print(row)\n",
        "n = len(a[0])-1\n",
        "print(\"\\nInitial hypothesis is : \")\n",
        "hypothesis = ['0'] * n\n",
        "print(hypothesis)\n",
        "for i in range(0, len(a)):\n",
        "  if a[i][n] == 'Yes':\n",
        "    print (\"\\nInstance\", i+1, \"is : \", a[i], \"\\nPositive Instance\")\n",
        "    for j in range(0,n):\n",
        "      if hypothesis[j] == '0' or hypothesis[j] == a[i][j]:\n",
        "        hypothesis[j] = a[i][j]\n",
        "      else:\n",
        "        hypothesis[j] = '?'\n",
        "    print(\"Hypothesis for training instance\", i+1, \" is: \" , hypothesis, \"\\n\")\n",
        "  if a[i][n] == 'No':\n",
        "    print (\"\\nInstance \", i+1, \"is\", a[i], \"\\nNegative Instance is Ignored\")\n",
        "    print(\"Hypothesis for training instance\", i+1, \" is: \" , hypothesis, \"\\n\")\n",
        "print(\"\\nFinal Hypothesis :\\n\")\n",
        "print(hypothesis)\n"
      ],
      "metadata": {
        "id": "qJu4AGgNvPmn",
        "colab": {
          "base_uri": "https://localhost:8080/",
          "height": 0
        },
        "outputId": "879cf279-61da-4df5-e7f2-81cca8a42652"
      },
      "execution_count": 25,
      "outputs": [
        {
          "output_type": "stream",
          "name": "stdout",
          "text": [
            "\n",
            "Training Data Set is : \n",
            "\n",
            "['\\ufeffCitations', 'Size', 'InLibrary', 'Price', 'Editions', 'Buy']\n",
            "['Some', 'Small', 'No', 'Affordable', 'One ', 'No']\n",
            "['Many', 'Big', 'No', 'Expensive', 'Many', 'Yes']\n",
            "['Many', 'Medium', 'No', 'Expensive', 'Few', 'Yes']\n",
            "['Many', 'Small', 'No', 'Affordable', 'Many', 'Yes']\n",
            "\n",
            "Initial hypothesis is : \n",
            "['0', '0', '0', '0', '0']\n",
            "\n",
            "Instance  2 is ['Some', 'Small', 'No', 'Affordable', 'One ', 'No'] \n",
            "Negative Instance is Ignored\n",
            "Hypothesis for training instance 2  is:  ['0', '0', '0', '0', '0'] \n",
            "\n",
            "\n",
            "Instance 3 is :  ['Many', 'Big', 'No', 'Expensive', 'Many', 'Yes'] \n",
            "Positive Instance\n",
            "Hypothesis for training instance 3  is:  ['Many', 'Big', 'No', 'Expensive', 'Many'] \n",
            "\n",
            "\n",
            "Instance 4 is :  ['Many', 'Medium', 'No', 'Expensive', 'Few', 'Yes'] \n",
            "Positive Instance\n",
            "Hypothesis for training instance 4  is:  ['Many', '?', 'No', 'Expensive', '?'] \n",
            "\n",
            "\n",
            "Instance 5 is :  ['Many', 'Small', 'No', 'Affordable', 'Many', 'Yes'] \n",
            "Positive Instance\n",
            "Hypothesis for training instance 5  is:  ['Many', '?', 'No', '?', '?'] \n",
            "\n",
            "\n",
            "Final Hypothesis :\n",
            "\n",
            "['Many', '?', 'No', '?', '?']\n"
          ]
        }
      ]
    },
    {
      "cell_type": "code",
      "source": [
        ""
      ],
      "metadata": {
        "id": "I0sAKr6JpHtD"
      },
      "execution_count": 25,
      "outputs": []
    }
  ]
}