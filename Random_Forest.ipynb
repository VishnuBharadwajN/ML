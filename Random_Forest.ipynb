{
  "nbformat": 4,
  "nbformat_minor": 0,
  "metadata": {
    "colab": {
      "name": "Random Forest.ipynb",
      "provenance": []
    },
    "kernelspec": {
      "name": "python3",
      "display_name": "Python 3"
    },
    "language_info": {
      "name": "python"
    }
  },
  "cells": [
    {
      "cell_type": "markdown",
      "source": [
        "**19BCE7478 - Nittoor Vishnu Bharadwaj**\n",
        "\n",
        "---"
      ],
      "metadata": {
        "id": "7j9CIoh3E4bU"
      }
    },
    {
      "cell_type": "code",
      "source": [
        "import numpy as np\n",
        "import pandas as pd\n",
        "from sklearn.metrics import confusion_matrix\n",
        "from sklearn.ensemble import RandomForestClassifier \n",
        "from sklearn.metrics import accuracy_score\n",
        "titanic = pd.read_csv(\"/content/titanic.csv\")\n",
        "titanic.Age=titanic.Age.fillna(titanic.Age.mean())\n",
        "d = {'male': 1, 'female': 0}\n",
        "titanic['Sex'] = titanic['Sex'].map(d)\n",
        "print(titanic)"
      ],
      "metadata": {
        "colab": {
          "base_uri": "https://localhost:8080/"
        },
        "id": "ZgKl8CMTE4_U",
        "outputId": "0672170b-0c4b-4c4e-ad7b-9a547149988f"
      },
      "execution_count": 19,
      "outputs": [
        {
          "output_type": "stream",
          "name": "stdout",
          "text": [
            "     Survived  Pclass  Sex       Age\n",
            "0           0       3    1  34.50000\n",
            "1           1       3    0  47.00000\n",
            "2           0       2    1  62.00000\n",
            "3           0       3    1  27.00000\n",
            "4           1       3    0  22.00000\n",
            "..        ...     ...  ...       ...\n",
            "413         0       3    1  30.27259\n",
            "414         1       1    0  39.00000\n",
            "415         0       3    1  38.50000\n",
            "416         0       3    1  30.27259\n",
            "417         0       3    1  30.27259\n",
            "\n",
            "[418 rows x 4 columns]\n"
          ]
        }
      ]
    },
    {
      "cell_type": "code",
      "source": [
        "#Train Test Split\n",
        "from sklearn.model_selection import train_test_split\n",
        "X=titanic[['Pclass', 'Sex', 'Age']]\n",
        "y=titanic['Survived']\n",
        "X_train, X_test, y_train, y_test = train_test_split(X, y, test_size=0.3,random_state=42)\n",
        "\n",
        "rfcl = RandomForestClassifier(n_estimators=10)\n",
        "rfc2 = RandomForestClassifier(n_estimators=50) \n",
        "rfc3 = RandomForestClassifier(n_estimators=100) \n",
        "rfc4 = RandomForestClassifier(n_estimators=150) \n",
        "rfc5 = RandomForestClassifier(n_estimators=200)\n",
        "\n",
        "rfcl.fit(X_train, y_train) \n",
        "rfc2.fit(X_train, y_train)\n",
        "rfc3.fit(X_train, y_train) \n",
        "rfc4.fit(X_train, y_train) \n",
        "rfc5.fit(X_train, y_train)\n",
        "predictionsl = rfcl.predict(X_test) \n",
        "predictions2 = rfc2.predict(X_test) \n",
        "predictions3 = rfc3.predict(X_test) \n",
        "predictions4 = rfc4.predict(X_test) \n",
        "predictions5 = rfc5.predict(X_test)\n",
        "\n",
        "print(\" For 10 trees:\" , classification_report(y_test, predictionsl)) \n",
        "print(\" For 50 trees:\", classification_report(y_test, predictions2))\n",
        "print(\" For 100 trees:\", classification_report(y_test, predictions3)) \n",
        "print(\" For 150 trees:\", classification_report(y_test, predictions4)) \n",
        "print(\" For 200 trees:\", classification_report(y_test, predictions5))\n",
        "\n",
        "print(X_train.shape, X_test.shape)\n",
        "print(y_train.shape, y_test.shape)"
      ],
      "metadata": {
        "colab": {
          "base_uri": "https://localhost:8080/"
        },
        "id": "mIsRhoV1NhCQ",
        "outputId": "603a994b-89cd-43c8-b76a-6c986e63da7e"
      },
      "execution_count": 14,
      "outputs": [
        {
          "output_type": "stream",
          "name": "stdout",
          "text": [
            " For 10 trees:               precision    recall  f1-score   support\n",
            "\n",
            "           0       1.00      1.00      1.00        85\n",
            "           1       1.00      1.00      1.00        41\n",
            "\n",
            "    accuracy                           1.00       126\n",
            "   macro avg       1.00      1.00      1.00       126\n",
            "weighted avg       1.00      1.00      1.00       126\n",
            "\n",
            " For 50 trees:               precision    recall  f1-score   support\n",
            "\n",
            "           0       1.00      1.00      1.00        85\n",
            "           1       1.00      1.00      1.00        41\n",
            "\n",
            "    accuracy                           1.00       126\n",
            "   macro avg       1.00      1.00      1.00       126\n",
            "weighted avg       1.00      1.00      1.00       126\n",
            "\n",
            " For 100 trees:               precision    recall  f1-score   support\n",
            "\n",
            "           0       1.00      1.00      1.00        85\n",
            "           1       1.00      1.00      1.00        41\n",
            "\n",
            "    accuracy                           1.00       126\n",
            "   macro avg       1.00      1.00      1.00       126\n",
            "weighted avg       1.00      1.00      1.00       126\n",
            "\n",
            " For 150 trees:               precision    recall  f1-score   support\n",
            "\n",
            "           0       1.00      1.00      1.00        85\n",
            "           1       1.00      1.00      1.00        41\n",
            "\n",
            "    accuracy                           1.00       126\n",
            "   macro avg       1.00      1.00      1.00       126\n",
            "weighted avg       1.00      1.00      1.00       126\n",
            "\n",
            " For 200 trees:               precision    recall  f1-score   support\n",
            "\n",
            "           0       1.00      1.00      1.00        85\n",
            "           1       1.00      1.00      1.00        41\n",
            "\n",
            "    accuracy                           1.00       126\n",
            "   macro avg       1.00      1.00      1.00       126\n",
            "weighted avg       1.00      1.00      1.00       126\n",
            "\n",
            "(292, 3) (126, 3)\n",
            "(292,) (126,)\n"
          ]
        }
      ]
    },
    {
      "cell_type": "code",
      "source": [
        "print(\"Accuracy for 10 trees: \", accuracy_score(y_test, predictionsl)) \n",
        "print(\"Accuracy for 50 trees: \", accuracy_score(y_test, predictions2)) \n",
        "print(\"Accuracy for 100 trees: \", accuracy_score(y_test, predictions3)) \n",
        "print(\"Accuracy for 150 trees: \", accuracy_score(y_test, predictions4)) \n",
        "print(\"Accuracy for 200 trees: \", accuracy_score(y_test, predictions5)) \n",
        "print()"
      ],
      "metadata": {
        "colab": {
          "base_uri": "https://localhost:8080/"
        },
        "id": "y0nhBtsGRkcz",
        "outputId": "1a5252b7-23ce-4bd8-ea79-cc909cf43b7d"
      },
      "execution_count": 20,
      "outputs": [
        {
          "output_type": "stream",
          "name": "stdout",
          "text": [
            "Accuracy for 10 trees:  1.0\n",
            "Accuracy for 50 trees:  1.0\n",
            "Accuracy for 100 trees:  1.0\n",
            "Accuracy for 150 trees:  1.0\n",
            "Accuracy for 200 trees:  1.0\n",
            "\n"
          ]
        }
      ]
    },
    {
      "cell_type": "code",
      "source": [
        "print(\"Confusion Matrix for 10 trees:\\n\", confusion_matrix(y_test, predictionsl)) \n",
        "print(\"Confusion Matrix for 50 trees:\\n\", confusion_matrix(y_test, predictions2)) \n",
        "print(\"Confusion Matrix for 100 trees:\\n\", confusion_matrix(y_test, predictions3)) \n",
        "print(\"Confusion Matrix for 150 trees:\\n\", confusion_matrix(y_test, predictions4)) \n",
        "print(\"Confusion Matrix for 200 trees:\\n\", confusion_matrix(y_test, predictions5))\n",
        "\n"
      ],
      "metadata": {
        "colab": {
          "base_uri": "https://localhost:8080/"
        },
        "id": "8-waStEWSVY3",
        "outputId": "cc55fd13-4a61-4d58-ed37-665f881c4115"
      },
      "execution_count": 21,
      "outputs": [
        {
          "output_type": "stream",
          "name": "stdout",
          "text": [
            "Confusion Matrix for 10 trees:\n",
            " [[85  0]\n",
            " [ 0 41]]\n",
            "Confusion Matrix for 50 trees:\n",
            " [[85  0]\n",
            " [ 0 41]]\n",
            "Confusion Matrix for 100 trees:\n",
            " [[85  0]\n",
            " [ 0 41]]\n",
            "Confusion Matrix for 150 trees:\n",
            " [[85  0]\n",
            " [ 0 41]]\n",
            "Confusion Matrix for 200 trees:\n",
            " [[85  0]\n",
            " [ 0 41]]\n"
          ]
        }
      ]
    },
    {
      "cell_type": "code",
      "source": [
        "print(\"The Random Forest having highest accuracy is: \", accuracy_score(y_test, predictions5)) \n",
        "print()\n",
        "print(confusion_matrix(y_test, predictions5))\n"
      ],
      "metadata": {
        "colab": {
          "base_uri": "https://localhost:8080/"
        },
        "id": "wXbOIX43SsSa",
        "outputId": "e1d1d575-7a58-444b-d058-2760408d681d"
      },
      "execution_count": 22,
      "outputs": [
        {
          "output_type": "stream",
          "name": "stdout",
          "text": [
            "The Random Forest having highest accuracy is:  1.0\n",
            "\n",
            "[[85  0]\n",
            " [ 0 41]]\n"
          ]
        }
      ]
    },
    {
      "cell_type": "code",
      "source": [
        "confusion_matrix(y_test, clf.predict(X_test))"
      ],
      "metadata": {
        "colab": {
          "base_uri": "https://localhost:8080/"
        },
        "id": "MS4_SzG3NlHV",
        "outputId": "72e20ba2-6fca-4bee-87e6-bd923d581c6a"
      },
      "execution_count": 9,
      "outputs": [
        {
          "output_type": "execute_result",
          "data": {
            "text/plain": [
              "array([[83,  0],\n",
              "       [ 0, 43]])"
            ]
          },
          "metadata": {},
          "execution_count": 9
        }
      ]
    },
    {
      "cell_type": "code",
      "source": [
        "#Accuracy\n",
        "from sklearn import metrics\n",
        "# Model Accuracy, how often is the classifier correct?\n",
        "print(\"Accuracy:\",metrics.accuracy_score(y_test, y_pred))"
      ],
      "metadata": {
        "colab": {
          "base_uri": "https://localhost:8080/"
        },
        "id": "hQLNHGPgNq9P",
        "outputId": "0f981d56-4ad3-409c-8e06-6139b9b3a761"
      },
      "execution_count": 10,
      "outputs": [
        {
          "output_type": "stream",
          "name": "stdout",
          "text": [
            "Accuracy: 1.0\n"
          ]
        }
      ]
    }
  ]
}